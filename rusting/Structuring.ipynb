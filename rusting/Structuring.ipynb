{
 "cells": [
  {
   "cell_type": "code",
   "execution_count": 10,
   "id": "ee321911",
   "metadata": {},
   "outputs": [],
   "source": [
    "file = open(\"nodes_information.txt\", \"r\")\n",
    "\n",
    "filew = open(\"updatednodeinfo.txt\", \"w\")\n",
    "\n",
    "filew = open(\"tempnodeinfo.txt\", \"w\")\n",
    "\n",
    "\n",
    "MINGROUPCOUNT = 1\n",
    "\n",
    "count_groupid = 1\n",
    "count_entries = MINGROUPCOUNT\n",
    "\n",
    "total_count = 4\n",
    "read_count = 8 # number of nodes\n",
    "\n",
    "while(total_count >0):\n",
    "    for f in file:\n",
    "        s = f.rstrip() + \" \" + str(count_groupid) + \"\\n\"\n",
    "        #print(s)\n",
    "        filew.write(s)\n",
    "\n",
    "        count_entries-=1\n",
    "\n",
    "        if count_entries ==0:\n",
    "            count_entries = MINGROUPCOUNT\n",
    "            count_groupid +=1\n",
    "        \n",
    "    total_count -=1\n",
    "    \n",
    "    MINGROUPCOUNT*=2\n",
    "    count_entries = MINGROUPCOUNT\n",
    "    \n",
    "    file.close()\n",
    "    filew.close()\n",
    "    \n",
    "    file = open(\"tempnodeinfo.txt\", \"r\")\n",
    "    filew = open(\"tempnodeinfo.txt\", \"a\")\n",
    "\n",
    "    #print(\"------------------------\")\n",
    "    \n",
    "\n",
    "    \n",
    "\n",
    "filew = open(\"updatednodeinfo.txt\", \"a\")\n",
    "\n",
    "\n",
    "\n",
    "for f in reversed(open(\"tempnodeinfo.txt\", \"r\").readlines()):\n",
    "    filew.write(f)\n",
    "    read_count-=1\n",
    "    \n",
    "    if read_count==0:\n",
    "        break\n"
   ]
  },
  {
   "cell_type": "code",
   "execution_count": null,
   "id": "f3071cd4",
   "metadata": {},
   "outputs": [],
   "source": []
  }
 ],
 "metadata": {
  "kernelspec": {
   "display_name": "Python 3 (ipykernel)",
   "language": "python",
   "name": "python3"
  },
  "language_info": {
   "codemirror_mode": {
    "name": "ipython",
    "version": 3
   },
   "file_extension": ".py",
   "mimetype": "text/x-python",
   "name": "python",
   "nbconvert_exporter": "python",
   "pygments_lexer": "ipython3",
   "version": "3.9.12"
  }
 },
 "nbformat": 4,
 "nbformat_minor": 5
}
