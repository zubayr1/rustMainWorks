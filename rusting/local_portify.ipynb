{
 "cells": [
  {
   "cell_type": "code",
   "execution_count": 1,
   "id": "f178a26a",
   "metadata": {},
   "outputs": [],
   "source": [
    "import hashlib\n",
    "\n",
    "def sha256_hash(node_identifier):\n",
    "    # Calculate the SHA-256 hash of the node identifier\n",
    "    hash_object = hashlib.sha256(node_identifier.encode('utf-8'))\n",
    "    hex_digest = hash_object.hexdigest()\n",
    "    # Convert the hexadecimal hash to an integer and adjust to the desired port range\n",
    "    return int(hex_digest, 16)\n",
    "\n",
    "def hash_node_to_port(node_identifier, port_range_start, port_range_end):\n",
    "    hash_value = sha256_hash(node_identifier)  # Use the SHA-256 hash function\n",
    "    port_range = port_range_end - port_range_start + 1\n",
    "    port = port_range_start + (hash_value % port_range)  # Adjust to the desired port range\n",
    "    return port"
   ]
  },
  {
   "cell_type": "code",
   "execution_count": 27,
   "id": "5dd5b4e6",
   "metadata": {},
   "outputs": [],
   "source": [
    "def create_ports(port_str, port_range_start, port_range_end):\n",
    "    return hash_node_to_port(port_str, port_range_start, port_range_end)"
   ]
  },
  {
   "cell_type": "code",
   "execution_count": 52,
   "id": "6d4b7bd0",
   "metadata": {},
   "outputs": [],
   "source": [
    "def write_port(port_list, file_name):\n",
    "    \n",
    "    with open(file_name, \"w\") as file:\n",
    "        # Convert all elements to strings using map() and join them with newline\n",
    "        lines = map(str, port_list)\n",
    "        file.writelines(\"\\n\".join(lines))"
   ]
  },
  {
   "cell_type": "code",
   "execution_count": 53,
   "id": "86be7847",
   "metadata": {},
   "outputs": [],
   "source": [
    "def portify(my_port, n, port_range_start, port_range_end):\n",
    "    \n",
    "    server_port_list = []\n",
    "    client_port_list = []\n",
    "    \n",
    "    for i in range(n):\n",
    "        server_str = str(my_port)+str(i+1)\n",
    "        server_port_list.append(create_ports(server_str, port_range_start, port_range_end))\n",
    "        \n",
    "        client_str = str(i+1)+str(my_port)\n",
    "        client_port_list.append(create_ports(client_str, port_range_start, port_range_end))\n",
    "        \n",
    "        \n",
    "    write_port(server_port_list, \"server_port_list\" + my_port+ \".txt\")\n",
    "    write_port(client_port_list, \"client_port_list\" + my_port+ \".txt\")\n",
    "    print(\"ports created\")"
   ]
  },
  {
   "cell_type": "code",
   "execution_count": 54,
   "id": "2b7fe35a",
   "metadata": {},
   "outputs": [],
   "source": [
    "\n",
    "def run():\n",
    "    file = open(\"nodes_information.txt\", \"r\")\n",
    "\n",
    "    lines = file.readlines()\n",
    "\n",
    "    for line in lines:\n",
    "        parts = line.strip().split(\"-\")\n",
    "        portify(parts[0], 4, 5000, 7000)\n",
    "    \n",
    "    "
   ]
  },
  {
   "cell_type": "code",
   "execution_count": 55,
   "id": "ea1a185a",
   "metadata": {},
   "outputs": [
    {
     "name": "stdout",
     "output_type": "stream",
     "text": [
      "ports created\n",
      "ports created\n",
      "ports created\n",
      "ports created\n"
     ]
    }
   ],
   "source": [
    "run()"
   ]
  },
  {
   "cell_type": "code",
   "execution_count": null,
   "id": "daf568c6",
   "metadata": {},
   "outputs": [],
   "source": []
  }
 ],
 "metadata": {
  "kernelspec": {
   "display_name": "Python 3 (ipykernel)",
   "language": "python",
   "name": "python3"
  },
  "language_info": {
   "codemirror_mode": {
    "name": "ipython",
    "version": 3
   },
   "file_extension": ".py",
   "mimetype": "text/x-python",
   "name": "python",
   "nbconvert_exporter": "python",
   "pygments_lexer": "ipython3",
   "version": "3.9.12"
  }
 },
 "nbformat": 4,
 "nbformat_minor": 5
}
