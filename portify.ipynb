{
 "cells": [
  {
   "cell_type": "code",
   "execution_count": 44,
   "id": "784a139a",
   "metadata": {},
   "outputs": [],
   "source": [
    "import hashlib\n",
    "\n",
    "def sha256_hash(node_identifier):\n",
    "    # Calculate the SHA-256 hash of the node identifier\n",
    "    hash_object = hashlib.sha256(node_identifier.encode('utf-8'))\n",
    "    hex_digest = hash_object.hexdigest()\n",
    "    # Convert the hexadecimal hash to an integer and adjust to the desired port range\n",
    "    return int(hex_digest, 16)\n",
    "\n",
    "def hash_node_to_port(node_identifier, port_range_start, port_range_end):\n",
    "    hash_value = sha256_hash(node_identifier)  # Use the SHA-256 hash function\n",
    "    port_range = port_range_end - port_range_start + 1\n",
    "    port = port_range_start + (hash_value % port_range)  # Adjust to the desired port range\n",
    "    return port"
   ]
  },
  {
   "cell_type": "code",
   "execution_count": 48,
   "id": "21c7c9dd",
   "metadata": {},
   "outputs": [],
   "source": [
    "def create_ports(port_str, port_range_start, port_range_end):\n",
    "    return hash_node_to_port(port_str, port_range_start, port_range_end)"
   ]
  },
  {
   "cell_type": "code",
   "execution_count": 73,
   "id": "3a15a570",
   "metadata": {},
   "outputs": [],
   "source": [
    "def write_port(port_list, file_name):\n",
    "    with open(file_name, \"w\") as file:\n",
    "        # Convert all elements to strings using map() and join them with newline\n",
    "        lines = map(str, port_list)\n",
    "        file.writelines(\"\\n\".join(lines))"
   ]
  },
  {
   "cell_type": "code",
   "execution_count": 74,
   "id": "c0783dc4",
   "metadata": {},
   "outputs": [],
   "source": [
    "def portify(my_port, n, port_range_start, port_range_end):\n",
    "    \n",
    "    server_port_list = []\n",
    "    client_port_list = []\n",
    "    \n",
    "    for i in range(n):\n",
    "        server_str = str(my_port)+str(i+1)\n",
    "        server_port_list.append(create_ports(server_str, port_range_start, port_range_end))\n",
    "        \n",
    "        client_str = str(i+1)+str(my_port)\n",
    "        client_port_list.append(create_ports(client_str, port_range_start, port_range_end))\n",
    "        \n",
    "    \n",
    "    write_port(server_port_list, \"server_port_list.txt\")\n",
    "    write_port(client_port_list, \"client_port_list.txt\")"
   ]
  },
  {
   "cell_type": "code",
   "execution_count": 75,
   "id": "2e1793a0",
   "metadata": {},
   "outputs": [
    {
     "name": "stdout",
     "output_type": "stream",
     "text": [
      "Usage: python call.py <argument1> <argument2>\n"
     ]
    }
   ],
   "source": [
    "import sys\n",
    "\n",
    "if __name__ == \"__main__\":\n",
    "    if len(sys.argv) > 4:\n",
    "        arg1 = int(sys.argv[1])\n",
    "        arg2 = sys.argv[2]\n",
    "        arg3 = sys.argv[3]\n",
    "        arg4 = sys.argv[4]\n",
    "        portify(arg1, arg2, arg3, arg4)\n",
    "    else:\n",
    "        print(\"Usage: python call.py <argument1> <argument2>\")"
   ]
  },
  {
   "cell_type": "code",
   "execution_count": 76,
   "id": "2044c1e9",
   "metadata": {},
   "outputs": [],
   "source": []
  },
  {
   "cell_type": "code",
   "execution_count": null,
   "id": "7b883263",
   "metadata": {},
   "outputs": [],
   "source": []
  }
 ],
 "metadata": {
  "kernelspec": {
   "display_name": "Python 3 (ipykernel)",
   "language": "python",
   "name": "python3"
  },
  "language_info": {
   "codemirror_mode": {
    "name": "ipython",
    "version": 3
   },
   "file_extension": ".py",
   "mimetype": "text/x-python",
   "name": "python",
   "nbconvert_exporter": "python",
   "pygments_lexer": "ipython3",
   "version": "3.9.12"
  }
 },
 "nbformat": 4,
 "nbformat_minor": 5
}
